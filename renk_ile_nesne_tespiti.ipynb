{
 "cells": [
  {
   "cell_type": "code",
   "execution_count": 1,
   "id": "c1ebbd03-98e1-4215-9e72-cab0a7df5065",
   "metadata": {},
   "outputs": [],
   "source": [
    "import cv2\n",
    "import numpy as np\n",
    "from collections import deque"
   ]
  },
  {
   "cell_type": "code",
   "execution_count": 39,
   "id": "bca7c243-6524-47dc-b323-6eea0424184e",
   "metadata": {},
   "outputs": [],
   "source": [
    "buffer_size = 16\n",
    "pts = deque(maxlen=buffer_size)"
   ]
  },
  {
   "cell_type": "code",
   "execution_count": 12,
   "id": "445b91c3-9e7b-41d2-882f-f9960ae2e068",
   "metadata": {},
   "outputs": [],
   "source": [
    "# mavi renk aralığı HSV\n",
    "blueLower = (84, 98, 0)\n",
    "blueUpper = (179, 255, 255)"
   ]
  },
  {
   "cell_type": "code",
   "execution_count": 52,
   "id": "c67c99c4-7573-4d3b-b25f-12266ccfb761",
   "metadata": {
    "tags": []
   },
   "outputs": [],
   "source": [
    "video = cv2.VideoCapture(0)\n",
    "width = int(video.get(cv2.CAP_PROP_FRAME_WIDTH))\n",
    "height = int(video.get(cv2.CAP_PROP_FRAME_HEIGHT))\n",
    "writer = cv2.VideoWriter(filename=\"images/colortracking1.mp4\",\n",
    "                         fourcc=cv2.VideoWriter_fourcc(*\"DIVX\"),\n",
    "                         fps=50,\n",
    "                         frameSize=(width, height))\n",
    "\n",
    "while True:\n",
    "    retval, img = video.read()\n",
    "    if not retval: break\n",
    "    img = cv2.flip(src=img, flipCode=1)\n",
    "    \n",
    "    # blur\n",
    "    blurred = cv2.GaussianBlur(src=img, ksize=(11, 11), sigmaX=0)\n",
    "    \n",
    "    # hsv\n",
    "    hsv = cv2.cvtColor(src=blurred, code=cv2.COLOR_BGR2HSV)\n",
    "    \n",
    "    # mask for blue\n",
    "    mask = cv2.inRange(src=hsv, lowerb=blueLower, upperb=blueUpper)\n",
    "    #cv2.imshow(winname=\"Mask\", mat=mask)\n",
    "    \n",
    "    # maskenin etrafında kalan gürültüleri sil\n",
    "    mask = cv2.erode(src=mask, kernel=None, iterations=2)\n",
    "    mask = cv2.dilate(src=mask, kernel=None, iterations=2)\n",
    "    #cv2.imshow(winname=\"Mask + Erode + Dilate\", mat=mask)\n",
    "    \n",
    "    \n",
    "    # kontur\n",
    "    contours, hierarchy = cv2.findContours(image=mask.copy(), \n",
    "                                         mode=cv2.RETR_EXTERNAL, \n",
    "                                         method=cv2.CHAIN_APPROX_SIMPLE)\n",
    "    \n",
    "    center = None # nesnemizin merkezi olacak.\n",
    "    \n",
    "    if len(contours) > 0:\n",
    "        \n",
    "        # en büyük konturu alalım.\n",
    "        c = max(contours, key=cv2.contourArea)\n",
    "        \n",
    "        # dikdörtgene çevirelim.\n",
    "        rect = cv2.minAreaRect(points=c)\n",
    "        \n",
    "        ((x, y), (width, height), rotation) = rect\n",
    "        \n",
    "        s = f\"\"\"x:{int(x)}, y:{int(y)}, width:{int(width)}, height:{int(height)}, rotation:{int(rotation)}\"\"\"\n",
    "        \n",
    "        # kutucuk\n",
    "        box = np.int64(cv2.boxPoints(rect))\n",
    "        \n",
    "        # moment\n",
    "        M = cv2.moments(array=c)\n",
    "        center = (int(M[\"m10\"]/M[\"m00\"]), int(M[\"m01\"]/M[\"m00\"]))\n",
    "        \n",
    "        # konturu çizdirelim.\n",
    "        cv2.drawContours(image=img, contours=[box], contourIdx=0, color=(0, 255, 255), thickness=2)\n",
    "        \n",
    "        # merkeze bir tane nokta çizelim.\n",
    "        cv2.circle(img=img, center=center, radius=5, color=(0, 255, 255), thickness=-1)\n",
    "        \n",
    "        # bilgileri ekrana yazdıralım.\n",
    "        cv2.putText(img=img,\n",
    "                    text=s,\n",
    "                    org=(30, 30),\n",
    "                    fontFace=cv2.FONT_HERSHEY_COMPLEX_SMALL,\n",
    "                    fontScale=1,\n",
    "                    color=(255, 255, 255),\n",
    "                    thickness=2)\n",
    "        \n",
    "        # deque\n",
    "        pts.appendleft(center)\n",
    "        \n",
    "        for i in range(1, len(pts)):\n",
    "            if pts[i-1] is None or pts[i] is None: continue\n",
    "            cv2.line(img=img, pt1=pts[i-1], pt2=pts[i], color=(0, 255, 0), thickness=3)\n",
    "        \n",
    "    writer.write(image=img)\n",
    "    cv2.imshow(winname=\"hsv image\", mat=img)\n",
    "    if cv2.waitKey(1) == ord(\"q\"): break\n",
    "    \n",
    "writer.release()\n",
    "video.release()\n",
    "cv2.destroyAllWindows()"
   ]
  },
  {
   "cell_type": "code",
   "execution_count": 46,
   "id": "4874e46e-6ff5-4c40-a3d8-03d2415abd49",
   "metadata": {},
   "outputs": [
    {
     "data": {
      "text/plain": [
       "\u001b[1;31mSignature:\u001b[0m \u001b[0mnp\u001b[0m\u001b[1;33m.\u001b[0m\u001b[0mround\u001b[0m\u001b[1;33m(\u001b[0m\u001b[0ma\u001b[0m\u001b[1;33m,\u001b[0m \u001b[0mdecimals\u001b[0m\u001b[1;33m=\u001b[0m\u001b[1;36m0\u001b[0m\u001b[1;33m,\u001b[0m \u001b[0mout\u001b[0m\u001b[1;33m=\u001b[0m\u001b[1;32mNone\u001b[0m\u001b[1;33m)\u001b[0m\u001b[1;33m\u001b[0m\u001b[1;33m\u001b[0m\u001b[0m\n",
       "\u001b[1;31mDocstring:\u001b[0m\n",
       "Round an array to the given number of decimals.\n",
       "\n",
       "See Also\n",
       "--------\n",
       "around : equivalent function; see for details.\n",
       "\u001b[1;31mFile:\u001b[0m      c:\\users\\murat\\anaconda3\\lib\\site-packages\\numpy\\core\\fromnumeric.py\n",
       "\u001b[1;31mType:\u001b[0m      function\n"
      ]
     },
     "metadata": {},
     "output_type": "display_data"
    }
   ],
   "source": [
    "?np.round"
   ]
  }
 ],
 "metadata": {
  "kernelspec": {
   "display_name": "Python 3 (ipykernel)",
   "language": "python",
   "name": "python3"
  },
  "language_info": {
   "codemirror_mode": {
    "name": "ipython",
    "version": 3
   },
   "file_extension": ".py",
   "mimetype": "text/x-python",
   "name": "python",
   "nbconvert_exporter": "python",
   "pygments_lexer": "ipython3",
   "version": "3.9.12"
  }
 },
 "nbformat": 4,
 "nbformat_minor": 5
}
